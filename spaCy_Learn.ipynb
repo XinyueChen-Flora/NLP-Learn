{
  "nbformat": 4,
  "nbformat_minor": 0,
  "metadata": {
    "colab": {
      "name": "spaCy-Learn.ipynb",
      "provenance": [],
      "authorship_tag": "ABX9TyNFNxTwTLV2lmrDloxWW4zK",
      "include_colab_link": true
    },
    "kernelspec": {
      "name": "python3",
      "display_name": "Python 3"
    },
    "language_info": {
      "name": "python"
    }
  },
  "cells": [
    {
      "cell_type": "markdown",
      "metadata": {
        "id": "view-in-github",
        "colab_type": "text"
      },
      "source": [
        "<a href=\"https://colab.research.google.com/github/XinyueChen-Flora/NLP-Learn/blob/main/spaCy_Learn.ipynb\" target=\"_parent\"><img src=\"https://colab.research.google.com/assets/colab-badge.svg\" alt=\"Open In Colab\"/></a>"
      ]
    },
    {
      "cell_type": "code",
      "execution_count": 14,
      "metadata": {
        "id": "2t2FbL2rIho4"
      },
      "outputs": [],
      "source": [
        "# import spacy and create a blanc english nlp object\n",
        "import spacy\n",
        "nlp = spacy.blank(\"en\")"
      ]
    },
    {
      "cell_type": "code",
      "source": [
        "# Created by processing a string of text with the nlp object\n",
        "doc = nlp(\"I like tree kangaroos and narwhals.\")"
      ],
      "metadata": {
        "id": "FDd1R0HuImIN"
      },
      "execution_count": 25,
      "outputs": []
    },
    {
      "cell_type": "code",
      "source": [
        "# Iterate over tokens in a Doc\n",
        "for token in doc:\n",
        "  print(token.text)"
      ],
      "metadata": {
        "colab": {
          "base_uri": "https://localhost:8080/"
        },
        "id": "QhJtUJiXItWx",
        "outputId": "25fa20f1-59c8-4393-ff0c-06d481315525"
      },
      "execution_count": 16,
      "outputs": [
        {
          "output_type": "stream",
          "name": "stdout",
          "text": [
            "I\n",
            "like\n",
            "kangaroos\n",
            "and\n",
            "narwhals\n",
            ".\n"
          ]
        }
      ]
    },
    {
      "cell_type": "code",
      "source": [
        "# Index into the Doc to get a single Token\n",
        "first_token = doc[0]\n",
        "# Get the token via the .text attribute\n",
        "print(first_token.text)"
      ],
      "metadata": {
        "colab": {
          "base_uri": "https://localhost:8080/"
        },
        "id": "wZLrfUoaJOvV",
        "outputId": "c28e0edc-e642-4f14-8b6c-85c6424d22f6"
      },
      "execution_count": 18,
      "outputs": [
        {
          "output_type": "stream",
          "name": "stdout",
          "text": [
            "I\n"
          ]
        }
      ]
    },
    {
      "cell_type": "code",
      "source": [
        "# A slice of the Doc for \"tree kangaroos\"\n",
        "tree_kangaroos = doc[2:4]\n",
        "print(tree_kangaroos.text)"
      ],
      "metadata": {
        "colab": {
          "base_uri": "https://localhost:8080/"
        },
        "id": "thap2Tw6Jsd5",
        "outputId": "d1ac87b5-359d-4e8e-f9c7-d83e5a99f95d"
      },
      "execution_count": 27,
      "outputs": [
        {
          "output_type": "stream",
          "name": "stdout",
          "text": [
            "tree kangaroos\n"
          ]
        }
      ]
    },
    {
      "cell_type": "code",
      "source": [
        "# i is the index of the token within the parent document.\n",
        "# text returns the token text.\n",
        "# is_alpha, is_punct and like_num return boolean values indicating whether the token consists of alphabetic characters, whether it's punctuation or whether it resembles a number. \n",
        "# For example, a token \"10\" – one, zero – or the word \"ten\" – T, E, N.\n",
        "# These attributes are also called lexical attributes: they refer to the entry in the vocabulary and don't depend on the token's context.\n",
        "print(\"Index:   \", [token.i for token in doc])\n",
        "print(\"Text:    \", [token.text for token in doc])\n",
        "print(\"is_alpha:\", [token.is_alpha for token in doc])\n",
        "print(\"is_punct:\", [token.is_punct for token in doc])\n",
        "print(\"like_num:\", [token.like_num for token in doc])"
      ],
      "metadata": {
        "colab": {
          "base_uri": "https://localhost:8080/"
        },
        "id": "S1JghdyaJ1yq",
        "outputId": "8514490c-c350-4cbe-ee4e-2f4b9c939022"
      },
      "execution_count": 21,
      "outputs": [
        {
          "output_type": "stream",
          "name": "stdout",
          "text": [
            "Index:    [0, 1, 2, 3, 4, 5]\n",
            "Text:     ['I', 'like', 'kangaroos', 'and', 'narwhals', '.']\n",
            "is_alpha: [True, True, True, True, True, False]\n",
            "is_punct: [False, False, False, False, False, True]\n",
            "like_num: [False, False, False, False, False, False]\n"
          ]
        }
      ]
    },
    {
      "cell_type": "code",
      "source": [
        "# A slice of the Doc for \"tree kangaroos and narwhals\" (without the \".\")\n",
        "tree_kangaroos_and_narwhals = doc[2:6]\n",
        "print(tree_kangaroos_and_narwhals)"
      ],
      "metadata": {
        "colab": {
          "base_uri": "https://localhost:8080/"
        },
        "id": "-leKspDJLIbU",
        "outputId": "c113c240-6fd9-4285-a1e4-ceab33f33ef6"
      },
      "execution_count": 29,
      "outputs": [
        {
          "output_type": "stream",
          "name": "stdout",
          "text": [
            "tree kangaroos and narwhals\n"
          ]
        }
      ]
    },
    {
      "cell_type": "markdown",
      "source": [
        "# Pipeline"
      ],
      "metadata": {
        "id": "CYyru4pFNy91"
      }
    },
    {
      "cell_type": "markdown",
      "source": [
        "Predicting Part-of-speech tags"
      ],
      "metadata": {
        "id": "il0r6D-sODar"
      }
    },
    {
      "cell_type": "code",
      "source": [
        "nlp = spacy.load(\"en_core_web_sm\")\n",
        "doc = nlp(\"She ate the pizza\")\n",
        "for token in doc:\n",
        "  # For each token in the doc, we can print the text and the .pos_ attribute, the predicted part-of-speech tag.\n",
        "  print(token.text, token.pos_)"
      ],
      "metadata": {
        "colab": {
          "base_uri": "https://localhost:8080/"
        },
        "id": "pd9Dt2-HLgdd",
        "outputId": "b835e0c9-dc70-4614-c629-cf3c16319fc5"
      },
      "execution_count": 36,
      "outputs": [
        {
          "output_type": "stream",
          "name": "stdout",
          "text": [
            "She PRON\n",
            "ate VERB\n",
            "the DET\n",
            "pizza NOUN\n"
          ]
        }
      ]
    },
    {
      "cell_type": "markdown",
      "source": [
        "Predicting Syntactic Dependencies"
      ],
      "metadata": {
        "id": "kMHIP5rkOnyh"
      }
    },
    {
      "cell_type": "code",
      "source": [
        "for token in doc:\n",
        "  print(token.text, token.pos_, token.dep_, token.head.text)"
      ],
      "metadata": {
        "colab": {
          "base_uri": "https://localhost:8080/"
        },
        "id": "kTrheaZfNLqH",
        "outputId": "71e55dad-b9ab-4e1b-953d-9106a3bc849f"
      },
      "execution_count": 38,
      "outputs": [
        {
          "output_type": "stream",
          "name": "stdout",
          "text": [
            "She PRON nsubj ate\n",
            "ate VERB ROOT ate\n",
            "the DET det pizza\n",
            "pizza NOUN dobj ate\n"
          ]
        }
      ]
    },
    {
      "cell_type": "markdown",
      "source": [
        "Predicting Named Entities"
      ],
      "metadata": {
        "id": "HITPnAR2Pgk4"
      }
    },
    {
      "cell_type": "code",
      "source": [
        "doc = nlp(\"Apple is looking at buying U.K. startup for $1 billion\")\n",
        "for ent in doc.ents:\n",
        "  print(ent.text, ent.label_)"
      ],
      "metadata": {
        "colab": {
          "base_uri": "https://localhost:8080/"
        },
        "id": "uBet20wUO1SW",
        "outputId": "f6cf2b46-ceaa-48cb-abb1-d7c94540fa73"
      },
      "execution_count": 39,
      "outputs": [
        {
          "output_type": "stream",
          "name": "stdout",
          "text": [
            "Apple ORG\n",
            "U.K. GPE\n",
            "$1 billion MONEY\n"
          ]
        }
      ]
    },
    {
      "cell_type": "code",
      "source": [
        "spacy.explain(\"GPE\")\n",
        "spacy.explain(\"det\")"
      ],
      "metadata": {
        "colab": {
          "base_uri": "https://localhost:8080/",
          "height": 35
        },
        "id": "tXRFfseNPtif",
        "outputId": "0b7bd366-b6f1-4daf-c175-b73eb3e06087"
      },
      "execution_count": 40,
      "outputs": [
        {
          "output_type": "execute_result",
          "data": {
            "application/vnd.google.colaboratory.intrinsic+json": {
              "type": "string"
            },
            "text/plain": [
              "'determiner'"
            ]
          },
          "metadata": {},
          "execution_count": 40
        }
      ]
    },
    {
      "cell_type": "markdown",
      "source": [
        "# Rule-based matching"
      ],
      "metadata": {
        "id": "aW0FcuzHRxvL"
      }
    },
    {
      "cell_type": "markdown",
      "source": [
        "Using the Matcher"
      ],
      "metadata": {
        "id": "tJ7H33yAS_V2"
      }
    },
    {
      "cell_type": "code",
      "source": [
        "from spacy.matcher import Matcher\n",
        "# Initialize the matcher with the shared vocab\n",
        "matcher = Matcher(nlp.vocab)\n",
        "# Add the pattern to the matcher\n",
        "# The matcher.add method lets you add a pattern. \n",
        "# The first argument is a unique ID to identify which pattern was matched. \n",
        "# The second argument is a list of patterns.\n",
        "pattern = [{\"TEXT\":\"iPhone\"}, {\"TEXT\": \"X\"}]\n",
        "matcher.add(\"IPHONE_PATTERN\", [pattern])\n",
        "# Process some text\n",
        "doc = nlp(\"Upcoming iPhone X release data leaked\")\n",
        "# Call the matcher on the doc\n",
        "matches = matcher(doc)\n",
        "# When you call the matcher on a doc, it returns a list of tuples.\n",
        "# Each tuple consists of three values: the match ID, the start index and the end index of the matched span.\n",
        "print(matches)\n",
        "# we can iterate over the matches and create a Span object: a slice of the doc at the start and end index.\n",
        "# match_id: hash value of the pattern name\n",
        "# start: start index of matched span\n",
        "# end: end index of matched span\n",
        "for match_id, start, end in matches:\n",
        "  matched_span = doc[start:end]\n",
        "  print(matched_span.text)"
      ],
      "metadata": {
        "colab": {
          "base_uri": "https://localhost:8080/"
        },
        "id": "TezBmIp-QCaX",
        "outputId": "4f0943e2-5628-4baf-c7c2-e9bd1fcd27d9"
      },
      "execution_count": 48,
      "outputs": [
        {
          "output_type": "stream",
          "name": "stdout",
          "text": [
            "[(9528407286733565721, 1, 3)]\n",
            "iPhone X\n"
          ]
        }
      ]
    },
    {
      "cell_type": "markdown",
      "source": [
        "Matching lexical attributes\n"
      ],
      "metadata": {
        "id": "RImpbBz7UU8x"
      }
    },
    {
      "cell_type": "code",
      "source": [
        "pattern = [\n",
        "    {\"IS_DIGIT\": True},\n",
        "    {\"LOWER\": \"fifa\"},\n",
        "    {\"LOWER\": \"world\"},\n",
        "    {\"LOWER\": \"cup\"},\n",
        "    {\"IS_PUNCT\": True}\n",
        "]\n",
        "doc = nlp(\"2018 FIFA World Cup: France won!\")\n",
        "matcher.add(\"FIFA_PATTERN\", [pattern])\n",
        "matches = matcher(doc)\n",
        "for match_id, start, end in matches:\n",
        "  matched_span = doc[start:end]\n",
        "  print(matched_span.text)\n"
      ],
      "metadata": {
        "colab": {
          "base_uri": "https://localhost:8080/"
        },
        "id": "UTW6PT4KTYH7",
        "outputId": "9acd3831-811f-4ba1-93c6-f29b7951a64d"
      },
      "execution_count": 51,
      "outputs": [
        {
          "output_type": "stream",
          "name": "stdout",
          "text": [
            "2018 FIFA World Cup:\n"
          ]
        }
      ]
    },
    {
      "cell_type": "markdown",
      "source": [
        "Matching other token attributes"
      ],
      "metadata": {
        "id": "kQqaMVIXVDUR"
      }
    },
    {
      "cell_type": "code",
      "source": [
        "pattern = [\n",
        "           {\"LEMMA\": \"love\", \"POS\": \"VERB\"},\n",
        "           {\"POS\": \"NOUN\"}\n",
        "]\n",
        "doc = nlp(\"I loved dogs but now I love cats more\")\n",
        "matcher.add(\"LOVE_PATTERN\", [pattern])\n",
        "matches = matcher(doc)\n",
        "for match_id, start, end in matches:\n",
        "  matched_span = doc[start:end]\n",
        "  print(matched_span.text)"
      ],
      "metadata": {
        "colab": {
          "base_uri": "https://localhost:8080/"
        },
        "id": "gFIR4UeoUdjG",
        "outputId": "9c150484-f5ad-412d-f855-93dbfcc55e4b"
      },
      "execution_count": 53,
      "outputs": [
        {
          "output_type": "stream",
          "name": "stdout",
          "text": [
            "loved dogs\n",
            "love cats\n"
          ]
        }
      ]
    },
    {
      "cell_type": "markdown",
      "source": [
        "Using operators and quantifiers"
      ],
      "metadata": {
        "id": "rDTRhYlAVse2"
      }
    },
    {
      "cell_type": "code",
      "source": [
        "pattern = [\n",
        "           {\"LEMMA\": \"buy\"},\n",
        "           {\"POS\": \"DET\",\"OP\":\"?\"}, # optional: match 0 or 1 times\n",
        "           {\"POS\": \"NOUN\"}\n",
        "]\n",
        "doc = nlp(\"I bought a smartphone. Now I'm buying apps.\")\n",
        "matcher.add(\"buy_PATTERN\", [pattern])\n",
        "matches = matcher(doc)\n",
        "for match_id, start, end in matches:\n",
        "  matched_span = doc[start:end]\n",
        "  print(matched_span.text)"
      ],
      "metadata": {
        "colab": {
          "base_uri": "https://localhost:8080/"
        },
        "id": "ycjj0XPlVurT",
        "outputId": "dbc20688-0b30-4534-838f-e72e7c05cf66"
      },
      "execution_count": 54,
      "outputs": [
        {
          "output_type": "stream",
          "name": "stdout",
          "text": [
            "bought a smartphone\n",
            "buying apps\n"
          ]
        }
      ]
    },
    {
      "cell_type": "code",
      "source": [
        ""
      ],
      "metadata": {
        "id": "t-yOZjN1WIq-"
      },
      "execution_count": null,
      "outputs": []
    }
  ]
}