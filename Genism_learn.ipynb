{
  "nbformat": 4,
  "nbformat_minor": 0,
  "metadata": {
    "colab": {
      "name": "Genism-learn.ipynb",
      "provenance": [],
      "authorship_tag": "ABX9TyOGI29tqwSbwwTiJg1KdLXC",
      "include_colab_link": true
    },
    "kernelspec": {
      "name": "python3",
      "display_name": "Python 3"
    },
    "language_info": {
      "name": "python"
    }
  },
  "cells": [
    {
      "cell_type": "markdown",
      "metadata": {
        "id": "view-in-github",
        "colab_type": "text"
      },
      "source": [
        "<a href=\"https://colab.research.google.com/github/XinyueChen-Flora/NLP-Learn/blob/main/Genism_learn.ipynb\" target=\"_parent\"><img src=\"https://colab.research.google.com/assets/colab-badge.svg\" alt=\"Open In Colab\"/></a>"
      ]
    },
    {
      "cell_type": "code",
      "execution_count": 1,
      "metadata": {
        "id": "_tkIPxK3jF-O"
      },
      "outputs": [],
      "source": [
        "import pprint"
      ]
    },
    {
      "cell_type": "code",
      "source": [
        "document = \"Human machine interface for lab abc computer applications\""
      ],
      "metadata": {
        "id": "3mb7YenAjoYu"
      },
      "execution_count": 2,
      "outputs": []
    },
    {
      "cell_type": "code",
      "source": [
        "text_corpus = [\n",
        "    \"Human machine interface for lab abc computer applications\",\n",
        "    \"A survey of user opinion of computer system response time\",\n",
        "    \"The EPS user interface management system\",\n",
        "    \"System and human system engineering testing of EPS\",\n",
        "    \"Relation of user perceived response time to error measurement\",\n",
        "    \"The generation of random binary unordered trees\",\n",
        "    \"The intersection graph of paths in trees\",\n",
        "    \"Graph minors IV Widths of trees and well quasi ordering\",\n",
        "    \"Graph minors A survey\",\n",
        "]"
      ],
      "metadata": {
        "id": "QFvjNylLjrf8"
      },
      "execution_count": 3,
      "outputs": []
    },
    {
      "cell_type": "code",
      "source": [
        "# Create a set of frequent words\n",
        "stoplist = set('for a of the and to in'.split(' '))\n",
        "# Lowercase each document, split it by white space and filter out stopwords\n",
        "texts = [[word for word in document.lower().split() if word not in stoplist]\n",
        "         for document in text_corpus]\n",
        "\n",
        "# Count word frequencies\n",
        "from collections import defaultdict\n",
        "frequency = defaultdict(int)\n",
        "for text in texts:\n",
        "    for token in text:\n",
        "        frequency[token] += 1\n",
        "\n",
        "# Only keep words that appear more than once\n",
        "processed_corpus = [[token for token in text if frequency[token] > 1] for text in texts]\n",
        "pprint.pprint(processed_corpus)"
      ],
      "metadata": {
        "colab": {
          "base_uri": "https://localhost:8080/"
        },
        "id": "UOUiZbzVjtzh",
        "outputId": "59d474fc-e6da-4322-a5af-4c869a733b7d"
      },
      "execution_count": 4,
      "outputs": [
        {
          "output_type": "stream",
          "name": "stdout",
          "text": [
            "[['human', 'interface', 'computer'],\n",
            " ['survey', 'user', 'computer', 'system', 'response', 'time'],\n",
            " ['eps', 'user', 'interface', 'system'],\n",
            " ['system', 'human', 'system', 'eps'],\n",
            " ['user', 'response', 'time'],\n",
            " ['trees'],\n",
            " ['graph', 'trees'],\n",
            " ['graph', 'minors', 'trees'],\n",
            " ['graph', 'minors', 'survey']]\n"
          ]
        }
      ]
    },
    {
      "cell_type": "code",
      "source": [
        "from gensim import corpora\n",
        "\n",
        "dictionary = corpora.Dictionary(processed_corpus)\n",
        "print(dictionary)"
      ],
      "metadata": {
        "colab": {
          "base_uri": "https://localhost:8080/"
        },
        "id": "YkmzN-XWjx_t",
        "outputId": "f0062a53-da04-4bb3-c211-0d77f0d95806"
      },
      "execution_count": 5,
      "outputs": [
        {
          "output_type": "stream",
          "name": "stdout",
          "text": [
            "Dictionary(12 unique tokens: ['computer', 'human', 'interface', 'response', 'survey']...)\n"
          ]
        }
      ]
    },
    {
      "cell_type": "code",
      "source": [
        "bow_corpus = [dictionary.doc2bow(text) for text in processed_corpus]\n",
        "pprint.pprint(bow_corpus)"
      ],
      "metadata": {
        "colab": {
          "base_uri": "https://localhost:8080/"
        },
        "id": "6m_qduzqj7MV",
        "outputId": "e431679d-66dc-42c3-95dd-bdbbb0459965"
      },
      "execution_count": 6,
      "outputs": [
        {
          "output_type": "stream",
          "name": "stdout",
          "text": [
            "[[(0, 1), (1, 1), (2, 1)],\n",
            " [(0, 1), (3, 1), (4, 1), (5, 1), (6, 1), (7, 1)],\n",
            " [(2, 1), (5, 1), (7, 1), (8, 1)],\n",
            " [(1, 1), (5, 2), (8, 1)],\n",
            " [(3, 1), (6, 1), (7, 1)],\n",
            " [(9, 1)],\n",
            " [(9, 1), (10, 1)],\n",
            " [(9, 1), (10, 1), (11, 1)],\n",
            " [(4, 1), (10, 1), (11, 1)]]\n"
          ]
        }
      ]
    },
    {
      "cell_type": "code",
      "source": [
        "from gensim import models\n",
        "\n",
        "# train the model\n",
        "tfidf = models.TfidfModel(bow_corpus)\n",
        "\n",
        "# transform the \"system minors\" string\n",
        "words = \"system minors\".lower().split()\n",
        "print(tfidf[dictionary.doc2bow(words)])"
      ],
      "metadata": {
        "colab": {
          "base_uri": "https://localhost:8080/"
        },
        "id": "Hl26In2ykYuB",
        "outputId": "9e525a8c-061e-48d2-f5ec-1b56f30afd65"
      },
      "execution_count": 7,
      "outputs": [
        {
          "output_type": "stream",
          "name": "stdout",
          "text": [
            "[(5, 0.5898341626740045), (11, 0.8075244024440723)]\n"
          ]
        }
      ]
    },
    {
      "cell_type": "code",
      "source": [
        "from gensim import similarities\n",
        "\n",
        "index = similarities.SparseMatrixSimilarity(tfidf[bow_corpus], num_features=12)\n"
      ],
      "metadata": {
        "id": "-KE8fyvokkT4"
      },
      "execution_count": 8,
      "outputs": []
    },
    {
      "cell_type": "code",
      "source": [
        "query_document = 'system engineering'.split()\n",
        "query_bow = dictionary.doc2bow(query_document)\n",
        "sims = index[tfidf[query_bow]]\n",
        "print(list(enumerate(sims)))"
      ],
      "metadata": {
        "colab": {
          "base_uri": "https://localhost:8080/"
        },
        "id": "gNZP7aYDksfA",
        "outputId": "d61b714f-c709-4aa5-ab77-291844031054"
      },
      "execution_count": 9,
      "outputs": [
        {
          "output_type": "stream",
          "name": "stdout",
          "text": [
            "[(0, 0.0), (1, 0.32448703), (2, 0.41707572), (3, 0.7184812), (4, 0.0), (5, 0.0), (6, 0.0), (7, 0.0), (8, 0.0)]\n"
          ]
        }
      ]
    },
    {
      "cell_type": "markdown",
      "source": [
        "# Corpora and Vector Spaces"
      ],
      "metadata": {
        "id": "30J7L6_blooY"
      }
    },
    {
      "cell_type": "code",
      "source": [
        "import logging\n",
        "logging.basicConfig(format='%(asctime)s : %(levelname)s : %(message)s', level=logging.INFO)"
      ],
      "metadata": {
        "id": "MQm1SPUOloUF"
      },
      "execution_count": 12,
      "outputs": []
    },
    {
      "cell_type": "markdown",
      "source": [
        "From Strings to Vectors"
      ],
      "metadata": {
        "id": "kgwRqAgClyws"
      }
    },
    {
      "cell_type": "code",
      "source": [
        "documents = [\n",
        "    \"Human machine interface for lab abc computer applications\",\n",
        "    \"A survey of user opinion of computer system response time\",\n",
        "    \"The EPS user interface management system\",\n",
        "    \"System and human system engineering testing of EPS\",\n",
        "    \"Relation of user perceived response time to error measurement\",\n",
        "    \"The generation of random binary unordered trees\",\n",
        "    \"The intersection graph of paths in trees\",\n",
        "    \"Graph minors IV Widths of trees and well quasi ordering\",\n",
        "    \"Graph minors A survey\",\n",
        "]"
      ],
      "metadata": {
        "id": "zg8gROTcl1PK"
      },
      "execution_count": 13,
      "outputs": []
    },
    {
      "cell_type": "code",
      "source": [
        "from pprint import pprint  # pretty-printer\n",
        "from collections import defaultdict\n",
        "\n",
        "# remove common words and tokenize\n",
        "stoplist = set('for a of the and to in'.split())\n",
        "texts = [\n",
        "    [word for word in document.lower().split() if word not in stoplist]\n",
        "    for document in documents\n",
        "]\n",
        "\n",
        "# remove words that appear only once\n",
        "frequency = defaultdict(int)\n",
        "for text in texts:\n",
        "    for token in text:\n",
        "        frequency[token] += 1\n",
        "\n",
        "texts = [\n",
        "    [token for token in text if frequency[token] > 1]\n",
        "    for text in texts\n",
        "]\n",
        "\n",
        "pprint(texts)"
      ],
      "metadata": {
        "colab": {
          "base_uri": "https://localhost:8080/"
        },
        "id": "K2snoXMuljIt",
        "outputId": "5c46f99d-1511-4b99-fcdf-6f102bcb4e3d"
      },
      "execution_count": 14,
      "outputs": [
        {
          "output_type": "stream",
          "name": "stdout",
          "text": [
            "[['human', 'interface', 'computer'],\n",
            " ['survey', 'user', 'computer', 'system', 'response', 'time'],\n",
            " ['eps', 'user', 'interface', 'system'],\n",
            " ['system', 'human', 'system', 'eps'],\n",
            " ['user', 'response', 'time'],\n",
            " ['trees'],\n",
            " ['graph', 'trees'],\n",
            " ['graph', 'minors', 'trees'],\n",
            " ['graph', 'minors', 'survey']]\n"
          ]
        }
      ]
    },
    {
      "cell_type": "code",
      "source": [
        "from gensim import corpora\n",
        "dictionary = corpora.Dictionary(texts)\n",
        "dictionary.save('/tmp/deerwester.dict')  # store the dictionary, for future reference\n",
        "print(dictionary)"
      ],
      "metadata": {
        "colab": {
          "base_uri": "https://localhost:8080/"
        },
        "id": "d4MxWlXjkub8",
        "outputId": "196b9f47-3a15-4a49-a31e-a55435d8b79e"
      },
      "execution_count": 15,
      "outputs": [
        {
          "output_type": "stream",
          "name": "stderr",
          "text": [
            "2022-01-02 20:59:55,702 : INFO : adding document #0 to Dictionary(0 unique tokens: [])\n",
            "2022-01-02 20:59:55,705 : INFO : built Dictionary(12 unique tokens: ['computer', 'human', 'interface', 'response', 'survey']...) from 9 documents (total 29 corpus positions)\n",
            "2022-01-02 20:59:55,709 : INFO : saving Dictionary object under /tmp/deerwester.dict, separately None\n",
            "2022-01-02 20:59:55,713 : INFO : saved /tmp/deerwester.dict\n"
          ]
        },
        {
          "output_type": "stream",
          "name": "stdout",
          "text": [
            "Dictionary(12 unique tokens: ['computer', 'human', 'interface', 'response', 'survey']...)\n"
          ]
        }
      ]
    },
    {
      "cell_type": "code",
      "source": [
        "print(dictionary.token2id)"
      ],
      "metadata": {
        "colab": {
          "base_uri": "https://localhost:8080/"
        },
        "id": "sfDmO52RlRBd",
        "outputId": "42467a3f-b0bc-44a4-eb12-6c99fa7f54dc"
      },
      "execution_count": 16,
      "outputs": [
        {
          "output_type": "stream",
          "name": "stdout",
          "text": [
            "{'computer': 0, 'human': 1, 'interface': 2, 'response': 3, 'survey': 4, 'system': 5, 'time': 6, 'user': 7, 'eps': 8, 'trees': 9, 'graph': 10, 'minors': 11}\n"
          ]
        }
      ]
    },
    {
      "cell_type": "code",
      "source": [
        "new_doc = \"Human computer interaction\"\n",
        "new_vec = dictionary.doc2bow(new_doc.lower().split())\n",
        "print(new_vec)  # the word \"interaction\" does not appear in the dictionary and is ignored\n"
      ],
      "metadata": {
        "colab": {
          "base_uri": "https://localhost:8080/"
        },
        "id": "vLVhXlT6l_Y-",
        "outputId": "c538c99f-a34e-4872-b655-6f8b21720910"
      },
      "execution_count": 17,
      "outputs": [
        {
          "output_type": "stream",
          "name": "stdout",
          "text": [
            "[(0, 1), (1, 1)]\n"
          ]
        }
      ]
    },
    {
      "cell_type": "code",
      "source": [
        "corpus = [dictionary.doc2bow(text) for text in texts]\n",
        "corpora.MmCorpus.serialize('/tmp/deerwester.mm', corpus)  # store to disk, for later use\n",
        "print(corpus)"
      ],
      "metadata": {
        "colab": {
          "base_uri": "https://localhost:8080/"
        },
        "id": "94bCGj3BmEMD",
        "outputId": "60ecf0ed-9c1b-472b-c039-2db17b82d54f"
      },
      "execution_count": 18,
      "outputs": [
        {
          "output_type": "stream",
          "name": "stderr",
          "text": [
            "2022-01-02 21:01:39,329 : INFO : storing corpus in Matrix Market format to /tmp/deerwester.mm\n",
            "2022-01-02 21:01:39,332 : INFO : saving sparse matrix to /tmp/deerwester.mm\n",
            "2022-01-02 21:01:39,338 : INFO : PROGRESS: saving document #0\n",
            "2022-01-02 21:01:39,340 : INFO : saved 9x12 matrix, density=25.926% (28/108)\n",
            "2022-01-02 21:01:39,342 : INFO : saving MmCorpus index to /tmp/deerwester.mm.index\n"
          ]
        },
        {
          "output_type": "stream",
          "name": "stdout",
          "text": [
            "[[(0, 1), (1, 1), (2, 1)], [(0, 1), (3, 1), (4, 1), (5, 1), (6, 1), (7, 1)], [(2, 1), (5, 1), (7, 1), (8, 1)], [(1, 1), (5, 2), (8, 1)], [(3, 1), (6, 1), (7, 1)], [(9, 1)], [(9, 1), (10, 1)], [(9, 1), (10, 1), (11, 1)], [(4, 1), (10, 1), (11, 1)]]\n"
          ]
        }
      ]
    },
    {
      "cell_type": "markdown",
      "source": [
        "Creating a transformation"
      ],
      "metadata": {
        "id": "SOo_yuoLmnLI"
      }
    },
    {
      "cell_type": "code",
      "source": [
        "from gensim import models\n",
        "\n",
        "tfidf = models.TfidfModel(corpus)  # step 1 -- initialize a model"
      ],
      "metadata": {
        "colab": {
          "base_uri": "https://localhost:8080/"
        },
        "id": "NulJfTJ1mQri",
        "outputId": "9ab39152-b415-4892-f201-b9e1aa24d14d"
      },
      "execution_count": 19,
      "outputs": [
        {
          "output_type": "stream",
          "name": "stderr",
          "text": [
            "2022-01-02 21:03:25,736 : INFO : collecting document frequencies\n",
            "2022-01-02 21:03:25,740 : INFO : PROGRESS: processing document #0\n",
            "2022-01-02 21:03:25,742 : INFO : calculating IDF weights for 9 documents and 11 features (28 matrix non-zeros)\n"
          ]
        }
      ]
    },
    {
      "cell_type": "code",
      "source": [
        "doc_bow = [(0, 1), (1, 1)]\n",
        "print(tfidf[doc_bow])  # step 2 -- use the model to transform vectors"
      ],
      "metadata": {
        "colab": {
          "base_uri": "https://localhost:8080/"
        },
        "id": "28AGGl4WmqqP",
        "outputId": "d58048f3-9da4-4f8d-89ab-d5bcb5480ed6"
      },
      "execution_count": 20,
      "outputs": [
        {
          "output_type": "stream",
          "name": "stdout",
          "text": [
            "[(0, 0.7071067811865476), (1, 0.7071067811865476)]\n"
          ]
        }
      ]
    },
    {
      "cell_type": "code",
      "source": [
        "corpus_tfidf = tfidf[corpus]\n",
        "for doc in corpus_tfidf:\n",
        "    print(doc)\n"
      ],
      "metadata": {
        "colab": {
          "base_uri": "https://localhost:8080/"
        },
        "id": "O_tLR5H5mztJ",
        "outputId": "913afb78-bc30-412e-ef42-2e8d13f08743"
      },
      "execution_count": 21,
      "outputs": [
        {
          "output_type": "stream",
          "name": "stdout",
          "text": [
            "[(0, 0.5773502691896257), (1, 0.5773502691896257), (2, 0.5773502691896257)]\n",
            "[(0, 0.44424552527467476), (3, 0.44424552527467476), (4, 0.44424552527467476), (5, 0.3244870206138555), (6, 0.44424552527467476), (7, 0.3244870206138555)]\n",
            "[(2, 0.5710059809418182), (5, 0.4170757362022777), (7, 0.4170757362022777), (8, 0.5710059809418182)]\n",
            "[(1, 0.49182558987264147), (5, 0.7184811607083769), (8, 0.49182558987264147)]\n",
            "[(3, 0.6282580468670046), (6, 0.6282580468670046), (7, 0.45889394536615247)]\n",
            "[(9, 1.0)]\n",
            "[(9, 0.7071067811865475), (10, 0.7071067811865475)]\n",
            "[(9, 0.5080429008916749), (10, 0.5080429008916749), (11, 0.695546419520037)]\n",
            "[(4, 0.6282580468670046), (10, 0.45889394536615247), (11, 0.6282580468670046)]\n"
          ]
        }
      ]
    },
    {
      "cell_type": "code",
      "source": [
        "lsi_model = models.LsiModel(corpus_tfidf, id2word=dictionary, num_topics=2)  # initialize an LSI transformation\n",
        "corpus_lsi = lsi_model[corpus_tfidf]  # create a double wrapper over the original corpus: bow->tfidf->fold-in-lsi\n",
        "lsi_model.print_topics(2)"
      ],
      "metadata": {
        "colab": {
          "base_uri": "https://localhost:8080/"
        },
        "id": "A-Wl1clRm2JW",
        "outputId": "f8eb915d-65b5-4d0c-8227-12c8af1bcfaf"
      },
      "execution_count": 23,
      "outputs": [
        {
          "output_type": "stream",
          "name": "stderr",
          "text": [
            "2022-01-02 21:05:52,352 : INFO : using serial LSI version on this node\n",
            "2022-01-02 21:05:52,355 : INFO : updating model with new documents\n",
            "2022-01-02 21:05:52,358 : INFO : preparing a new chunk of documents\n",
            "2022-01-02 21:05:52,361 : INFO : using 100 extra samples and 2 power iterations\n",
            "2022-01-02 21:05:52,367 : INFO : 1st phase: constructing (12, 102) action matrix\n",
            "2022-01-02 21:05:52,370 : INFO : orthonormalizing (12, 102) action matrix\n",
            "2022-01-02 21:05:52,391 : INFO : 2nd phase: running dense svd on (12, 9) matrix\n",
            "2022-01-02 21:05:52,397 : INFO : computing the final decomposition\n",
            "2022-01-02 21:05:52,399 : INFO : keeping 2 factors (discarding 47.565% of energy spectrum)\n",
            "2022-01-02 21:05:52,407 : INFO : processed documents up to #9\n",
            "2022-01-02 21:05:52,412 : INFO : topic #0(1.594): 0.703*\"trees\" + 0.538*\"graph\" + 0.402*\"minors\" + 0.187*\"survey\" + 0.061*\"system\" + 0.060*\"response\" + 0.060*\"time\" + 0.058*\"user\" + 0.049*\"computer\" + 0.035*\"interface\"\n",
            "2022-01-02 21:05:52,414 : INFO : topic #1(1.476): -0.460*\"system\" + -0.373*\"user\" + -0.332*\"eps\" + -0.328*\"interface\" + -0.320*\"response\" + -0.320*\"time\" + -0.293*\"computer\" + -0.280*\"human\" + -0.171*\"survey\" + 0.161*\"trees\"\n",
            "2022-01-02 21:05:52,419 : INFO : topic #0(1.594): 0.703*\"trees\" + 0.538*\"graph\" + 0.402*\"minors\" + 0.187*\"survey\" + 0.061*\"system\" + 0.060*\"response\" + 0.060*\"time\" + 0.058*\"user\" + 0.049*\"computer\" + 0.035*\"interface\"\n",
            "2022-01-02 21:05:52,423 : INFO : topic #1(1.476): -0.460*\"system\" + -0.373*\"user\" + -0.332*\"eps\" + -0.328*\"interface\" + -0.320*\"response\" + -0.320*\"time\" + -0.293*\"computer\" + -0.280*\"human\" + -0.171*\"survey\" + 0.161*\"trees\"\n"
          ]
        },
        {
          "output_type": "execute_result",
          "data": {
            "text/plain": [
              "[(0,\n",
              "  '0.703*\"trees\" + 0.538*\"graph\" + 0.402*\"minors\" + 0.187*\"survey\" + 0.061*\"system\" + 0.060*\"response\" + 0.060*\"time\" + 0.058*\"user\" + 0.049*\"computer\" + 0.035*\"interface\"'),\n",
              " (1,\n",
              "  '-0.460*\"system\" + -0.373*\"user\" + -0.332*\"eps\" + -0.328*\"interface\" + -0.320*\"response\" + -0.320*\"time\" + -0.293*\"computer\" + -0.280*\"human\" + -0.171*\"survey\" + 0.161*\"trees\"')]"
            ]
          },
          "metadata": {},
          "execution_count": 23
        }
      ]
    },
    {
      "cell_type": "code",
      "source": [
        "# both bow->tfidf and tfidf->lsi transformations are actually executed here, on the fly\n",
        "for doc, as_text in zip(corpus_lsi, documents):\n",
        "    print(doc, as_text)"
      ],
      "metadata": {
        "colab": {
          "base_uri": "https://localhost:8080/"
        },
        "id": "sRH_NLsAnLnp",
        "outputId": "1b41fe8f-374c-4263-f307-b7c4af34e9f7"
      },
      "execution_count": 24,
      "outputs": [
        {
          "output_type": "stream",
          "name": "stdout",
          "text": [
            "[(0, 0.06600783396090236), (1, -0.5200703306361849)] Human machine interface for lab abc computer applications\n",
            "[(0, 0.19667592859142352), (1, -0.7609563167700053)] A survey of user opinion of computer system response time\n",
            "[(0, 0.08992639972446272), (1, -0.7241860626752509)] The EPS user interface management system\n",
            "[(0, 0.07585847652178022), (1, -0.6320551586003424)] System and human system engineering testing of EPS\n",
            "[(0, 0.10150299184980047), (1, -0.5737308483002959)] Relation of user perceived response time to error measurement\n",
            "[(0, 0.7032108939378313), (1, 0.1611518021402562)] The generation of random binary unordered trees\n",
            "[(0, 0.8774787673119832), (1, 0.16758906864659184)] The intersection graph of paths in trees\n",
            "[(0, 0.9098624686818575), (1, 0.14086553628718762)] Graph minors IV Widths of trees and well quasi ordering\n",
            "[(0, 0.6165825350569274), (1, -0.053929075663895584)] Graph minors A survey\n"
          ]
        }
      ]
    },
    {
      "cell_type": "code",
      "source": [
        "lsi = models.LsiModel(corpus, id2word=dictionary, num_topics=2)\n",
        "doc = \"Human computer interaction\"\n",
        "vec_bow = dictionary.doc2bow(doc.lower().split())\n",
        "vec_lsi = lsi[vec_bow]  # convert the query to LSI space\n",
        "print(vec_lsi)"
      ],
      "metadata": {
        "colab": {
          "base_uri": "https://localhost:8080/"
        },
        "id": "ueYjgMBnnquK",
        "outputId": "c063e41d-609e-4988-cc47-598dc9b9fbfc"
      },
      "execution_count": 25,
      "outputs": [
        {
          "output_type": "stream",
          "name": "stderr",
          "text": [
            "2022-01-02 21:10:51,350 : INFO : using serial LSI version on this node\n",
            "2022-01-02 21:10:51,364 : INFO : updating model with new documents\n",
            "2022-01-02 21:10:51,371 : INFO : preparing a new chunk of documents\n",
            "2022-01-02 21:10:51,381 : INFO : using 100 extra samples and 2 power iterations\n",
            "2022-01-02 21:10:51,386 : INFO : 1st phase: constructing (12, 102) action matrix\n",
            "2022-01-02 21:10:51,391 : INFO : orthonormalizing (12, 102) action matrix\n",
            "2022-01-02 21:10:51,399 : INFO : 2nd phase: running dense svd on (12, 9) matrix\n",
            "2022-01-02 21:10:51,401 : INFO : computing the final decomposition\n",
            "2022-01-02 21:10:51,403 : INFO : keeping 2 factors (discarding 43.156% of energy spectrum)\n",
            "2022-01-02 21:10:51,404 : INFO : processed documents up to #9\n",
            "2022-01-02 21:10:51,406 : INFO : topic #0(3.341): 0.644*\"system\" + 0.404*\"user\" + 0.301*\"eps\" + 0.265*\"time\" + 0.265*\"response\" + 0.240*\"computer\" + 0.221*\"human\" + 0.206*\"survey\" + 0.198*\"interface\" + 0.036*\"graph\"\n",
            "2022-01-02 21:10:51,408 : INFO : topic #1(2.542): 0.623*\"graph\" + 0.490*\"trees\" + 0.451*\"minors\" + 0.274*\"survey\" + -0.167*\"system\" + -0.141*\"eps\" + -0.113*\"human\" + 0.107*\"response\" + 0.107*\"time\" + -0.072*\"interface\"\n"
          ]
        },
        {
          "output_type": "stream",
          "name": "stdout",
          "text": [
            "[(0, 0.46182100453271524), (1, -0.07002766527900053)]\n"
          ]
        }
      ]
    },
    {
      "cell_type": "code",
      "source": [
        "from gensim import similarities\n",
        "index = similarities.MatrixSimilarity(lsi[corpus])  # transform corpus to LSI space and index it"
      ],
      "metadata": {
        "colab": {
          "base_uri": "https://localhost:8080/"
        },
        "id": "pEpxecZPoXdZ",
        "outputId": "ea5fa7d2-f07f-4953-bc55-9eeee961f40e"
      },
      "execution_count": 26,
      "outputs": [
        {
          "output_type": "stream",
          "name": "stderr",
          "text": [
            "2022-01-02 21:11:25,232 : WARNING : scanning corpus to determine the number of features (consider setting `num_features` explicitly)\n",
            "2022-01-02 21:11:25,236 : INFO : creating matrix with 9 documents and 2 features\n"
          ]
        }
      ]
    },
    {
      "cell_type": "code",
      "source": [
        "index.save('/tmp/deerwester.index')\n",
        "index = similarities.MatrixSimilarity.load('/tmp/deerwester.index')"
      ],
      "metadata": {
        "colab": {
          "base_uri": "https://localhost:8080/"
        },
        "id": "j1UGgVrjofuf",
        "outputId": "71f45245-bc71-44a7-f2e4-24c4b477d9e1"
      },
      "execution_count": 27,
      "outputs": [
        {
          "output_type": "stream",
          "name": "stderr",
          "text": [
            "2022-01-02 21:11:36,772 : INFO : saving MatrixSimilarity object under /tmp/deerwester.index, separately None\n",
            "2022-01-02 21:11:36,779 : INFO : saved /tmp/deerwester.index\n",
            "2022-01-02 21:11:36,783 : INFO : loading MatrixSimilarity object from /tmp/deerwester.index\n",
            "2022-01-02 21:11:36,785 : INFO : loaded /tmp/deerwester.index\n"
          ]
        }
      ]
    },
    {
      "cell_type": "code",
      "source": [
        "sims = index[vec_lsi]  # perform a similarity query against the corpus\n",
        "print(list(enumerate(sims)))  # print (document_number, document_similarity) 2-tuples\n"
      ],
      "metadata": {
        "colab": {
          "base_uri": "https://localhost:8080/"
        },
        "id": "6xBNHkKloiiN",
        "outputId": "985b77b9-4ab6-44ff-eaff-29de682e82e0"
      },
      "execution_count": 28,
      "outputs": [
        {
          "output_type": "stream",
          "name": "stdout",
          "text": [
            "[(0, 0.998093), (1, 0.93748635), (2, 0.9984453), (3, 0.98658866), (4, 0.90755945), (5, -0.12416792), (6, -0.1063926), (7, -0.09879464), (8, 0.05004177)]\n"
          ]
        }
      ]
    },
    {
      "cell_type": "code",
      "source": [
        "sims = sorted(enumerate(sims), key=lambda item: -item[1])\n",
        "for doc_position, doc_score in sims:\n",
        "    print(doc_score, documents[doc_position])"
      ],
      "metadata": {
        "colab": {
          "base_uri": "https://localhost:8080/"
        },
        "id": "EYXYHHKTokrm",
        "outputId": "493fc9a5-2743-4e90-aa02-20c5f1341547"
      },
      "execution_count": 29,
      "outputs": [
        {
          "output_type": "stream",
          "name": "stdout",
          "text": [
            "0.9984453 The EPS user interface management system\n",
            "0.998093 Human machine interface for lab abc computer applications\n",
            "0.98658866 System and human system engineering testing of EPS\n",
            "0.93748635 A survey of user opinion of computer system response time\n",
            "0.90755945 Relation of user perceived response time to error measurement\n",
            "0.05004177 Graph minors A survey\n",
            "-0.09879464 Graph minors IV Widths of trees and well quasi ordering\n",
            "-0.1063926 The intersection graph of paths in trees\n",
            "-0.12416792 The generation of random binary unordered trees\n"
          ]
        }
      ]
    },
    {
      "cell_type": "markdown",
      "source": [
        "# Word2vec"
      ],
      "metadata": {
        "id": "6m4CPtEPpNJ0"
      }
    },
    {
      "cell_type": "code",
      "source": [
        "import gensim.downloader as api\n",
        "wv = api.load('word2vec-google-news-300')"
      ],
      "metadata": {
        "colab": {
          "base_uri": "https://localhost:8080/"
        },
        "id": "ZOV0x-dhop-g",
        "outputId": "407dd68e-295c-41ce-d2c1-c58c55a79f3f"
      },
      "execution_count": 30,
      "outputs": [
        {
          "output_type": "stream",
          "name": "stderr",
          "text": [
            "2022-01-02 21:16:45,737 : INFO : Creating /root/gensim-data\n"
          ]
        },
        {
          "output_type": "stream",
          "name": "stdout",
          "text": [
            "[==================================================] 100.0% 1662.8/1662.8MB downloaded\n"
          ]
        },
        {
          "output_type": "stream",
          "name": "stderr",
          "text": [
            "2022-01-02 21:22:54,452 : INFO : word2vec-google-news-300 downloaded\n",
            "2022-01-02 21:22:54,458 : INFO : loading projection weights from /root/gensim-data/word2vec-google-news-300/word2vec-google-news-300.gz\n",
            "2022-01-02 21:29:51,671 : INFO : loaded (3000000, 300) matrix from /root/gensim-data/word2vec-google-news-300/word2vec-google-news-300.gz\n"
          ]
        }
      ]
    },
    {
      "cell_type": "code",
      "source": [
        "for index, word in enumerate(wv.index_to_key):\n",
        "    if index == 10:\n",
        "        break\n",
        "    print(f\"word #{index}/{len(wv.index_to_key)} is {word}\")"
      ],
      "metadata": {
        "id": "tSTbC7-8pt8o"
      },
      "execution_count": null,
      "outputs": []
    }
  ]
}